{
 "cells": [
  {
   "cell_type": "code",
   "execution_count": 6,
   "id": "6996b2e9-3f55-4847-af45-f4af3ae75b15",
   "metadata": {},
   "outputs": [
    {
     "name": "stderr",
     "output_type": "stream",
     "text": [
      "C:\\Users\\giuli\\AppData\\Local\\Temp\\ipykernel_12656\\1517381546.py:7: DeprecationWarning: \n",
      "Pyarrow will become a required dependency of pandas in the next major release of pandas (pandas 3.0),\n",
      "(to allow more performant data types, such as the Arrow string type, and better interoperability with other libraries)\n",
      "but was not found to be installed on your system.\n",
      "If this would cause problems for you,\n",
      "please provide us feedback at https://github.com/pandas-dev/pandas/issues/54466\n",
      "        \n",
      "  import pandas as pd\n"
     ]
    }
   ],
   "source": [
    "from IPython.core.interactiveshell import InteractiveShell\n",
    "InteractiveShell.ast_node_interactivity = \"all\"\n",
    "\n",
    "import numpy as np\n",
    "import math\n",
    "import os\n",
    "import pandas as pd\n",
    "import matplotlib.pyplot as plt\n",
    "from mpl_toolkits.mplot3d import axes3d  \n",
    "\n",
    "\n",
    "\n",
    "pd.options.display.max_rows = 4000\n",
    "\n",
    "from matplotlib.colors import ListedColormap"
   ]
  },
  {
   "cell_type": "code",
   "execution_count": 62,
   "id": "50c71a1c-2c51-4ea1-a83b-230e45d34918",
   "metadata": {},
   "outputs": [
    {
     "name": "stderr",
     "output_type": "stream",
     "text": [
      "C:\\Users\\giuli\\AppData\\Local\\Temp\\ipykernel_12656\\4204929831.py:22: RuntimeWarning: invalid value encountered in scalar power\n",
      "  return out + (steep_fac - 1)*(90 - out)**0.7\n"
     ]
    },
    {
     "data": {
      "text/plain": [
       "<Figure size 640x480 with 0 Axes>"
      ]
     },
     "execution_count": 62,
     "metadata": {},
     "output_type": "execute_result"
    },
    {
     "data": {
      "text/plain": [
       "[<matplotlib.lines.Line2D at 0x110b98e2e10>]"
      ]
     },
     "execution_count": 62,
     "metadata": {},
     "output_type": "execute_result"
    },
    {
     "data": {
      "text/plain": [
       "[<matplotlib.lines.Line2D at 0x110b98cea10>]"
      ]
     },
     "execution_count": 62,
     "metadata": {},
     "output_type": "execute_result"
    },
    {
     "data": {
      "image/png": "[encoded data removed]",
      "text/plain": [
       "<Figure size 640x480 with 1 Axes>"
      ]
     },
     "metadata": {},
     "output_type": "display_data"
    }
   ],
   "source": [
    "steep_fac = 1 + 0.14 + 0.05\n",
    "v0 = 38.7096\n",
    "\n",
    "def midval(a, b, c):\n",
    "    maxx = max(max(a,b), c)\n",
    "    minn = min(min(a, b), c)\n",
    "    \n",
    "    return a + b + c - maxx - minn\n",
    "\n",
    "\n",
    "\n",
    "def nominal_pitch_prof(rel_v, steep_fac):\n",
    "\n",
    "    p1 = -0.0088\n",
    "    p2 = 30.5\n",
    "    p3 = 28000\n",
    "    q1 = 3.923\n",
    "    \n",
    "    x = rel_v + 400\n",
    "    out = midval((p1*x**2 + p2*x + p3)/(x + q1), 0, 90)\n",
    "    \n",
    "    return out + (steep_fac - 1)*(90 - out)**0.7\n",
    "\n",
    "def first_stage_pitch(curv):\n",
    "\n",
    "    v0 = 38.7096\n",
    "    vmatch = 110\n",
    "\n",
    "    steep_fac = 1 + 0.14 + 0.05\n",
    "\n",
    "    vrel = curv - v0\n",
    "\n",
    "\n",
    "\n",
    "    if (curv < v0):\n",
    "        return 90\n",
    "    else:\n",
    "\n",
    "        pitch_prof = 0\n",
    "        if (curv < vmatch):\n",
    "\n",
    "            vrel_match = vmatch - v0\n",
    "\n",
    "            prof_match = nominal_pitch_prof(vrel_match, steep_fac)\n",
    "\n",
    "            dv = 2\n",
    "            dp_dv = (nominal_pitch_prof(vrel_match + dv, steep_fac) - prof_match) / dv\n",
    "\n",
    "            c_ = ( 2*(prof_match - 90) - dp_dv * vrel_match ) / vrel_match**3\n",
    "            b_ = (-dp_dv - 3*c_*vrel_match**2)/(2*vrel_match)\n",
    "\n",
    "            pitch_prof = 90 - ( b_ + c_ * vrel) * vrel**2\n",
    "        else:\n",
    "            pitch_prof = nominal_pitch_prof(vrel, steep_fac)\n",
    "\n",
    "        return pitch_prof\n",
    "\n",
    "\n",
    "vel = np.linspace(0,  200, 1000)\n",
    "pitch = [first_stage_pitch(v) for v in vel]\n",
    "nom_p = [nominal_pitch_prof(v - v0, steep_fac) for v in vel]\n",
    "\n",
    "\n",
    "plt.figure()\n",
    "plt.grid()\n",
    "plt.plot(vel, pitch)\n",
    "plt.plot(vel, nom_p, '--')"
   ]
  }
 ],
 "metadata": {
  "kernelspec": {
   "display_name": "Python 3 (ipykernel)",
   "language": "python",
   "name": "python3"
  },
  "language_info": {
   "codemirror_mode": {
    "name": "ipython",
    "version": 3
   },
   "file_extension": ".py",
   "mimetype": "text/x-python",
   "name": "python",
   "nbconvert_exporter": "python",
   "pygments_lexer": "ipython3",
   "version": "3.11.7"
  }
 },
 "nbformat": 4,
 "nbformat_minor": 5
}
